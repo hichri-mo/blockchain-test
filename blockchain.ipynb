{
 "cells": [
  {
   "cell_type": "code",
   "execution_count": 34,
   "metadata": {},
   "outputs": [],
   "source": [
    "from datetime import datetime\n",
    "import hashlib\n",
    "class Block:\n",
    "\n",
    "    def __init__(self,index,previous_hash,transactions,proof,timestamp=None):\n",
    "        self.index=index\n",
    "        self.previous_hash=previous_hash\n",
    "        self.transactions=transactions\n",
    "        self.proof=proof\n",
    "        self.timestamp=timestamp\n",
    "        self.timestamp=datetime.now()\n",
    "        self.hash=self.calculate_hash()\n",
    "\n",
    "    def calculate_hash(self):\n",
    "        block_string= f\"{self.index}{self.previous_hash}{self.transactions}{self.proof}\"\n",
    "        return hashlib.sha256(block_string.encode()).hexdigest()"
   ]
  },
  {
   "cell_type": "code",
   "execution_count": 35,
   "metadata": {},
   "outputs": [],
   "source": [
    "class Blockchain():\n",
    "    def __init__(self):\n",
    "        self.chain= []\n",
    "        self.create_genesis_block()\n",
    "\n",
    "    def create_genesis_block(self):\n",
    "        genesis_block=Block(index=0,previous_hash=\"0\",transactions=[],proof=100)\n",
    "        self.chain.append(genesis_block)\n",
    "\n",
    "    def add_block(self,transactions,proof):\n",
    "        previous_block=self.chain[-1]\n",
    "        new_block=Block(index=len(self.chain),previous_hash=previous_block.hash,transactions=transactions,proof=proof)\n",
    "        self.chain.append(new_block)\n",
    "\n",
    "\n",
    "    def is_chain_valid(self):\n",
    "        for i in range(len(self.chain)):\n",
    "            current_block=self.chain[i]\n",
    "            previous_block=self.chain[i-1]\n",
    "\n",
    "            if current_block.hash != current_block.calculate_hash():\n",
    "                print(f\"Block {i} is compromis\")\n",
    "                return False\n",
    "            \n",
    "            if current_block.previous_hash != previous_block.hash:\n",
    "                print(f\"block {i-1} is compromis\")\n",
    "                return False\n",
    "        return True\n",
    "        \n"
   ]
  },
  {
   "cell_type": "code",
   "execution_count": 37,
   "metadata": {},
   "outputs": [
    {
     "name": "stdout",
     "output_type": "stream",
     "text": [
      "block -1 is compromis\n",
      "bloc is compromis\n",
      "Block 0: \n",
      "Transactions []: \n",
      "Hash 498b4180973c8b907c1ca00a90c8e11b1f1c82043a86bfb33f13af158558da9c: \n",
      "Previous Hash 0: \n",
      "\n",
      "Block 1: \n",
      "Transactions alice paie 1 BTC à BOB: \n",
      "Hash fe675f697dac620706c975b3ccfa4e5bc1f461a9ed1f9c2da9f4df29f068ecfc: \n",
      "Previous Hash 498b4180973c8b907c1ca00a90c8e11b1f1c82043a86bfb33f13af158558da9c: \n",
      "\n",
      "Block 2: \n",
      "Transactions BOB paie 0.5 BTC à charlie: \n",
      "Hash af9f745ee2024452ec9ecc755277f7eaf485d0211990c90ea1403874c479162d: \n",
      "Previous Hash fe675f697dac620706c975b3ccfa4e5bc1f461a9ed1f9c2da9f4df29f068ecfc: \n",
      "\n",
      "Block 3: \n",
      "Transactions alice paie 2.9 BTC à Slash: \n",
      "Hash 47f092588f24a8013720e6d1c831be3d135ba24b17fc23e3f4fc65693814930c: \n",
      "Previous Hash af9f745ee2024452ec9ecc755277f7eaf485d0211990c90ea1403874c479162d: \n",
      "\n"
     ]
    }
   ],
   "source": [
    "blockchain=Blockchain()\n",
    "blockchain.add_block(transactions=\"alice paie 1 BTC à BOB\",proof=12345)\n",
    "blockchain.add_block(transactions=\"BOB paie 0.5 BTC à charlie\",proof=67800)\n",
    "blockchain.add_block(transactions=\"alice paie 2.9 BTC à Slash\",proof=45633)\n",
    "\n",
    "if blockchain.is_chain_valid():\n",
    "    print(\"block valid \")\n",
    "else:\n",
    "    print(\"bloc is compromis\")\n",
    "\n",
    "for block in blockchain.chain:\n",
    "    #print(f\"TIME{block.timestamp}: \")\n",
    "    print(f\"Block {block.index}: \")\n",
    "    print(f\"Transactions {block.transactions}: \")\n",
    "    print(f\"Hash {block.hash}: \")\n",
    "    print(f\"Previous Hash {block.previous_hash}: \")\n",
    "    print()"
   ]
  }
 ],
 "metadata": {
  "kernelspec": {
   "display_name": "Python 3",
   "language": "python",
   "name": "python3"
  },
  "language_info": {
   "codemirror_mode": {
    "name": "ipython",
    "version": 3
   },
   "file_extension": ".py",
   "mimetype": "text/x-python",
   "name": "python",
   "nbconvert_exporter": "python",
   "pygments_lexer": "ipython3",
   "version": "3.9.7"
  }
 },
 "nbformat": 4,
 "nbformat_minor": 2
}
